{
 "cells": [
  {
   "cell_type": "markdown",
   "id": "ff19188a",
   "metadata": {},
   "source": [
    "### Creating Tables With PostgreSQL"
   ]
  },
  {
   "cell_type": "code",
   "execution_count": 1,
   "id": "157fa626",
   "metadata": {},
   "outputs": [
    {
     "name": "stdout",
     "output_type": "stream",
     "text": [
      "Defaulting to user installation because normal site-packages is not writeable\n",
      "Collecting psycopg2\n",
      "  Downloading psycopg2-2.9.9-cp311-cp311-win_amd64.whl.metadata (4.5 kB)\n",
      "Downloading psycopg2-2.9.9-cp311-cp311-win_amd64.whl (1.2 MB)\n",
      "   ---------------------------------------- 0.0/1.2 MB ? eta -:--:--\n",
      "   ---------------------------------------- 0.0/1.2 MB ? eta -:--:--\n",
      "   ---------------------------------------- 0.0/1.2 MB ? eta -:--:--\n",
      "   -- ------------------------------------- 0.1/1.2 MB 544.7 kB/s eta 0:00:03\n",
      "   ---- ----------------------------------- 0.1/1.2 MB 901.1 kB/s eta 0:00:02\n",
      "   ----- ---------------------------------- 0.2/1.2 MB 1.1 MB/s eta 0:00:01\n",
      "   ------ --------------------------------- 0.2/1.2 MB 787.7 kB/s eta 0:00:02\n",
      "   ----------- ---------------------------- 0.3/1.2 MB 1.1 MB/s eta 0:00:01\n",
      "   -------------- ------------------------- 0.4/1.2 MB 1.3 MB/s eta 0:00:01\n",
      "   --------------- ------------------------ 0.5/1.2 MB 1.3 MB/s eta 0:00:01\n",
      "   ----------------- ---------------------- 0.5/1.2 MB 1.1 MB/s eta 0:00:01\n",
      "   ---------------------- ----------------- 0.7/1.2 MB 1.4 MB/s eta 0:00:01\n",
      "   ------------------------- -------------- 0.7/1.2 MB 1.4 MB/s eta 0:00:01\n",
      "   ---------------------------- ----------- 0.8/1.2 MB 1.4 MB/s eta 0:00:01\n",
      "   ------------------------------ --------- 0.9/1.2 MB 1.4 MB/s eta 0:00:01\n",
      "   ------------------------------ --------- 0.9/1.2 MB 1.4 MB/s eta 0:00:01\n",
      "   ------------------------------------ --- 1.1/1.2 MB 1.5 MB/s eta 0:00:01\n",
      "   ---------------------------------------  1.1/1.2 MB 1.5 MB/s eta 0:00:01\n",
      "   ---------------------------------------- 1.2/1.2 MB 1.5 MB/s eta 0:00:00\n",
      "Installing collected packages: psycopg2\n",
      "Successfully installed psycopg2-2.9.9\n"
     ]
    }
   ],
   "source": [
    "!pip install psycopg2"
   ]
  },
  {
   "cell_type": "markdown",
   "id": "d1d3c8ee",
   "metadata": {},
   "source": [
    "### Omporting the library"
   ]
  },
  {
   "cell_type": "code",
   "execution_count": 2,
   "id": "014f460a",
   "metadata": {},
   "outputs": [],
   "source": [
    "import psycopg2"
   ]
  },
  {
   "cell_type": "markdown",
   "id": "9bf73a74",
   "metadata": {},
   "source": [
    "### Creat a connection to the database"
   ]
  },
  {
   "cell_type": "code",
   "execution_count": 4,
   "id": "d9267496",
   "metadata": {},
   "outputs": [
    {
     "name": "stdout",
     "output_type": "stream",
     "text": [
      "Connected\n"
     ]
    }
   ],
   "source": [
    "try:\n",
    "    conn= psycopg2.connect(\"host=127.0.0.1 dbname=postgres user=postgres password=bilal\")\n",
    "    print(\"Connected\")\n",
    "except psycopg2.Error as e:\n",
    "    print(\"Error : Could not make connection to the Postgres database\")\n",
    "    print(e)"
   ]
  },
  {
   "cell_type": "markdown",
   "id": "28e51746",
   "metadata": {},
   "source": [
    "### Creat a connection to get cursor can be used to execute "
   ]
  },
  {
   "cell_type": "code",
   "execution_count": 6,
   "id": "7d46d2dd",
   "metadata": {},
   "outputs": [
    {
     "name": "stdout",
     "output_type": "stream",
     "text": [
      "Cursor Connected\n"
     ]
    }
   ],
   "source": [
    "try:\n",
    "    cur = conn.cursor()\n",
    "    print(\"Cursor Connected\")\n",
    "except psycopg2.Error as e:\n",
    "    print(\"Error could not get curser to the Database\")\n",
    "    print(e)"
   ]
  },
  {
   "cell_type": "markdown",
   "id": "c5b64dba",
   "metadata": {},
   "source": [
    "### Set automatic commit to be true so that each action is commited without having to call conn.commit() after each command"
   ]
  },
  {
   "cell_type": "code",
   "execution_count": 9,
   "id": "609218bc",
   "metadata": {},
   "outputs": [],
   "source": [
    "conn.set_session(autocommit=True)"
   ]
  },
  {
   "cell_type": "markdown",
   "id": "e1c06c72",
   "metadata": {},
   "source": [
    "### Creat a database to do the work in"
   ]
  },
  {
   "cell_type": "code",
   "execution_count": 10,
   "id": "1a9f1215",
   "metadata": {},
   "outputs": [],
   "source": [
    "try:\n",
    "    cur.execute(\"create database myfirstdb\")\n",
    "except psycopg2.Error as e:\n",
    "    print(e)"
   ]
  },
  {
   "cell_type": "markdown",
   "id": "40c691f3",
   "metadata": {},
   "source": [
    "### Adding the DB name in the connect statement "
   ]
  },
  {
   "cell_type": "code",
   "execution_count": 13,
   "id": "d741928b",
   "metadata": {},
   "outputs": [],
   "source": [
    "try:\n",
    "    conn.close()\n",
    "\n",
    "except psycopg2.Error as e:\n",
    "    print(e)\n",
    "\n",
    "try:\n",
    "    conn = psycopg2.connect(\"host=127.0.0.1 dbname=myfirstdb user=postgres password=bilal\")\n",
    "except psycopg2.Error as e:\n",
    "    print(\"Error: Could not make connection to the Postgres database\")\n",
    "    print(e)\n",
    "\n",
    "try:\n",
    "    cur = conn.cursor()\n",
    "except psycopg2.Error as e:\n",
    "    print(\"Error: Could not get cursor to the Database\")\n",
    "    print(e)\n",
    "    \n",
    "conn.set_session(autocommit=True)\n"
   ]
  },
  {
   "cell_type": "markdown",
   "id": "803f7fc0",
   "metadata": {},
   "source": [
    "### Creating Tables \n",
    "1. Student Table"
   ]
  },
  {
   "cell_type": "code",
   "execution_count": 14,
   "id": "c0ebaea4",
   "metadata": {},
   "outputs": [],
   "source": [
    "try:\n",
    "    cur.execute(\"CREATE TABLE IF NOT EXISTS students (student_id int, name varchar, \\\n",
    "age int, gender varchar, subject varchar, marks int);\")\n",
    "except psycopg2.Error as e:\n",
    "    print(\"Error: Issue creating table\")\n",
    "    print(e)\n"
   ]
  },
  {
   "cell_type": "markdown",
   "id": "3f5114b5",
   "metadata": {},
   "source": [
    "### Inserting Some Row Students:\n",
    "First Row: 1, \"Bilal\", 25, \"Male\", \"SQL\", 85\n",
    "\n",
    "Second Row: 2, \"Karima\", 21, \"Female\", \"Python\", 86"
   ]
  },
  {
   "cell_type": "code",
   "execution_count": 24,
   "id": "dfa60f52",
   "metadata": {},
   "outputs": [],
   "source": [
    "try:\n",
    "    cur.execute(\"INSERT INTO students (student_id, name, age, gender, subject, marks) \\\n",
    "VALUES (%s, %s, %s, %s, %s, %s)\", \\\n",
    "(1, \"Bilal\", 25, \"Male\", \"Python\", 85))\n",
    "except psycopg2.Error as e:\n",
    "    print(\"Error: Inserting Rows\")\n",
    "    print(e)\n",
    "\n",
    "try:\n",
    "    cur.execute(\"INSERT INTO students (student_id, name, age, gender, subject, marks) \\\n",
    "VALUES (%s, %s, %s, %s, %s, %s)\",\n",
    "(2, \"Karima\", 21, \"Female\", \"Python\", 86))\n",
    "except psycopg2.Error as e:\n",
    "    print(\"Error: Inserting Rows\")\n",
    "    print(e)\n"
   ]
  },
  {
   "cell_type": "code",
   "execution_count": 25,
   "id": "3e34f5f8",
   "metadata": {},
   "outputs": [
    {
     "name": "stdout",
     "output_type": "stream",
     "text": [
      "(1, 'Bilal', 25, 'Male', 'Python', 85)\n",
      "(2, 'Karima', 21, 'Female', 'Python', 86)\n"
     ]
    }
   ],
   "source": [
    "# Validate your data was inserted into the table.\n",
    "\n",
    "try:\n",
    "    cur.execute(\"SELECT * FROM students;\")\n",
    "except psycopg2.Error as e:\n",
    "    print(\"Error: select *\")\n",
    "    print(e)\n",
    "\n",
    "row = cur.fetchone()\n",
    "while row:\n",
    "    print(row)\n",
    "    row = cur.fetchone()\n"
   ]
  },
  {
   "cell_type": "markdown",
   "id": "64e8dffe",
   "metadata": {},
   "source": [
    "### Closing the cursor and the connection"
   ]
  },
  {
   "cell_type": "code",
   "execution_count": 26,
   "id": "d4b21e53",
   "metadata": {},
   "outputs": [],
   "source": [
    "cur.close()\n",
    "conn.close()"
   ]
  }
 ],
 "metadata": {
  "kernelspec": {
   "display_name": "Python 3 (ipykernel)",
   "language": "python",
   "name": "python3"
  },
  "language_info": {
   "codemirror_mode": {
    "name": "ipython",
    "version": 3
   },
   "file_extension": ".py",
   "mimetype": "text/x-python",
   "name": "python",
   "nbconvert_exporter": "python",
   "pygments_lexer": "ipython3",
   "version": "3.11.5"
  }
 },
 "nbformat": 4,
 "nbformat_minor": 5
}
